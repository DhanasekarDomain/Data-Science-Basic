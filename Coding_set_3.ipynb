{
 "cells": [
  {
   "cell_type": "code",
   "execution_count": null,
   "id": "511e5dbe",
   "metadata": {
    "id": "511e5dbe"
   },
   "outputs": [],
   "source": [
    "#1. Square of Numbers from 1 to 5\n",
    "Output:\n",
    "1 4 9 16 25\n"
   ]
  },
  {
   "cell_type": "code",
   "execution_count": 1,
   "id": "d2baeb1c-ae9c-46ba-b160-6c6a07bbde8f",
   "metadata": {},
   "outputs": [
    {
     "name": "stdout",
     "output_type": "stream",
     "text": [
      "[1, 4, 9, 16, 25]\n"
     ]
    }
   ],
   "source": [
    "x=[1,2,3,4,5]\n",
    "squarevalue= [x**2 for x in x]\n",
    "print(squarevalue)"
   ]
  },
  {
   "cell_type": "code",
   "execution_count": null,
   "id": "e886abee",
   "metadata": {
    "id": "e886abee"
   },
   "outputs": [],
   "source": [
    "#2.Swap Two Variables Without Using a Temporary Variable\n",
    "Question: Write a Python program to swap two variables a = 5 and b = 10 without using a temporary variable.\n",
    "\n"
   ]
  },
  {
   "cell_type": "code",
   "execution_count": 2,
   "id": "fda4caab-f9ee-441b-8142-4726653c06de",
   "metadata": {},
   "outputs": [
    {
     "name": "stdout",
     "output_type": "stream",
     "text": [
      "a= 10\n",
      "b= 5\n"
     ]
    }
   ],
   "source": [
    "a=5\n",
    "b=10\n",
    "a,b=b,a\n",
    "print(\"a=\",a)\n",
    "print(\"b=\",b)    "
   ]
  },
  {
   "cell_type": "code",
   "execution_count": null,
   "id": "adfc0479",
   "metadata": {
    "id": "adfc0479"
   },
   "outputs": [],
   "source": [
    " #3.Find Even and Odd Numbers in a List\n",
    "Question: Write a Python program to separate even and odd numbers from the list [12, 17, 19, 24, 35, 40, 56].\n",
    "\n"
   ]
  },
  {
   "cell_type": "code",
   "execution_count": 3,
   "id": "eec6e008-32de-4325-8491-1bd12d3068c8",
   "metadata": {},
   "outputs": [
    {
     "name": "stdout",
     "output_type": "stream",
     "text": [
      "12 is Even Numbers\n",
      "17 is Odd Numbers\n",
      "19 is Odd Numbers\n",
      "24 is Even Numbers\n",
      "35 is Odd Numbers\n",
      "40 is Even Numbers\n",
      "56 is Even Numbers\n"
     ]
    }
   ],
   "source": [
    "list = [12, 17, 19, 24, 35, 40, 56]\n",
    "for x in list:\n",
    "    if x%2 == 0:\n",
    "        print(x,\"is Even Numbers\")\n",
    "    else:\n",
    "        print(x,\"is Odd Numbers\")"
   ]
  },
  {
   "cell_type": "code",
   "execution_count": null,
   "id": "9bd0afd7",
   "metadata": {
    "id": "9bd0afd7"
   },
   "outputs": [],
   "source": [
    "#4. Reverse a Number\n",
    "Question: Write a Python program to reverse the number 12345.\n",
    "\n"
   ]
  },
  {
   "cell_type": "code",
   "execution_count": 4,
   "id": "fada6ac8-c39e-46ae-9628-57e2c203b73e",
   "metadata": {},
   "outputs": [
    {
     "name": "stdout",
     "output_type": "stream",
     "text": [
      "[5, 4, 3, 2, 1]\n"
     ]
    }
   ],
   "source": [
    "list=[1,2,3,4,5]\n",
    "list.reverse()\n",
    "print(list)"
   ]
  },
  {
   "cell_type": "code",
   "execution_count": null,
   "id": "baf1f666",
   "metadata": {
    "id": "baf1f666"
   },
   "outputs": [],
   "source": [
    "#5. Find the Second Largest Number in a List\n",
    "Question: Write a Python program to find the second largest number in the list [12, 45, 98, 34, 23].\n"
   ]
  },
  {
   "cell_type": "code",
   "execution_count": 5,
   "id": "eb6e77d2",
   "metadata": {
    "id": "eb6e77d2"
   },
   "outputs": [
    {
     "name": "stdout",
     "output_type": "stream",
     "text": [
      "The second largest number is: 45\n"
     ]
    }
   ],
   "source": [
    "numbers = [12, 45, 98, 34, 23]\n",
    "numbers.remove(max(numbers))\n",
    "second_largest = max(numbers)\n",
    "print(\"The second largest number is:\", second_largest)"
   ]
  },
  {
   "cell_type": "code",
   "execution_count": null,
   "id": "23233bd0-1363-48f6-b5bd-0e4d42ea6641",
   "metadata": {},
   "outputs": [],
   "source": []
  }
 ],
 "metadata": {
  "colab": {
   "provenance": []
  },
  "kernelspec": {
   "display_name": "Python 3 (ipykernel)",
   "language": "python",
   "name": "python3"
  },
  "language_info": {
   "codemirror_mode": {
    "name": "ipython",
    "version": 3
   },
   "file_extension": ".py",
   "mimetype": "text/x-python",
   "name": "python",
   "nbconvert_exporter": "python",
   "pygments_lexer": "ipython3",
   "version": "3.13.7"
  }
 },
 "nbformat": 4,
 "nbformat_minor": 5
}
