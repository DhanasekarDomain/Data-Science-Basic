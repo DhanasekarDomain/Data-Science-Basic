{
 "cells": [
  {
   "cell_type": "code",
   "execution_count": 1,
   "id": "3c032f46-5fc6-4c2d-b690-a504d46676f5",
   "metadata": {},
   "outputs": [],
   "source": [
    "import pandas as pd"
   ]
  },
  {
   "cell_type": "code",
   "execution_count": 2,
   "id": "d0efb54a-7174-4ab2-aa32-2fd6e806835b",
   "metadata": {},
   "outputs": [],
   "source": [
    "datapool=pd.read_csv(\"Placement.csv\")"
   ]
  },
  {
   "cell_type": "code",
   "execution_count": 3,
   "id": "c3a28e39-d986-4092-92dd-cb13f4001a30",
   "metadata": {},
   "outputs": [],
   "source": [
    "from Univeriate_class import univeriate"
   ]
  },
  {
   "cell_type": "code",
   "execution_count": 4,
   "id": "2ad1852d-3449-4689-8cab-2ac5db457f54",
   "metadata": {},
   "outputs": [],
   "source": [
    "quan,qual=univeriate.quanqual(datapool)"
   ]
  },
  {
   "cell_type": "code",
   "execution_count": 6,
   "id": "2af4780a-e553-4965-a261-d95476a275dd",
   "metadata": {},
   "outputs": [
    {
     "data": {
      "text/plain": [
       "Index(['gender', 'ssc_b', 'hsc_b', 'hsc_s', 'degree_t', 'workex',\n",
       "       'specialisation', 'status'],\n",
       "      dtype='object')"
      ]
     },
     "execution_count": 6,
     "metadata": {},
     "output_type": "execute_result"
    }
   ],
   "source": [
    "quan.columns"
   ]
  },
  {
   "cell_type": "code",
   "execution_count": 7,
   "id": "189f420d-4738-46e6-b0f5-6bb56e6f6368",
   "metadata": {},
   "outputs": [
    {
     "data": {
      "text/plain": [
       "Index(['sl_no', 'ssc_p', 'hsc_p', 'degree_p', 'etest_p', 'mba_p', 'salary'], dtype='object')"
      ]
     },
     "execution_count": 7,
     "metadata": {},
     "output_type": "execute_result"
    }
   ],
   "source": [
    "qual.columns"
   ]
  }
 ],
 "metadata": {
  "kernelspec": {
   "display_name": "Python 3 (ipykernel)",
   "language": "python",
   "name": "python3"
  },
  "language_info": {
   "codemirror_mode": {
    "name": "ipython",
    "version": 3
   },
   "file_extension": ".py",
   "mimetype": "text/x-python",
   "name": "python",
   "nbconvert_exporter": "python",
   "pygments_lexer": "ipython3",
   "version": "3.13.7"
  }
 },
 "nbformat": 4,
 "nbformat_minor": 5
}
