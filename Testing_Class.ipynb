{
 "cells": [
  {
   "cell_type": "code",
   "execution_count": 1,
   "id": "e5bf40e2-deaa-4f11-8ecd-5c23c348285c",
   "metadata": {},
   "outputs": [],
   "source": [
    "import pandas as pd\n",
    "import numpy as np"
   ]
  },
  {
   "cell_type": "code",
   "execution_count": 2,
   "id": "bf0f33ad-f016-4f03-b01f-20cbaf45d7cd",
   "metadata": {},
   "outputs": [],
   "source": [
    "datapool=pd.read_csv(\"Placement.csv\")"
   ]
  },
  {
   "cell_type": "code",
   "execution_count": 3,
   "id": "c92b7eda-06c5-4b0e-9001-05d7b2cfdee5",
   "metadata": {},
   "outputs": [],
   "source": [
    "from Univeriate_class import univeriate"
   ]
  },
  {
   "cell_type": "code",
   "execution_count": 4,
   "id": "f798adcb-4667-4e1f-b129-bb5f66c48dfe",
   "metadata": {},
   "outputs": [],
   "source": [
    "quan,qual=univeriate.quanqual(datapool)"
   ]
  },
  {
   "cell_type": "code",
   "execution_count": 5,
   "id": "e5b3d21b-49de-40d1-8de3-232fb83d999c",
   "metadata": {},
   "outputs": [
    {
     "ename": "NameError",
     "evalue": "name 'pd' is not defined",
     "output_type": "error",
     "traceback": [
      "\u001b[31m---------------------------------------------------------------------------\u001b[39m",
      "\u001b[31mNameError\u001b[39m                                 Traceback (most recent call last)",
      "\u001b[36mCell\u001b[39m\u001b[36m \u001b[39m\u001b[32mIn[5]\u001b[39m\u001b[32m, line 1\u001b[39m\n\u001b[32m----> \u001b[39m\u001b[32m1\u001b[39m \u001b[43muniveriate\u001b[49m\u001b[43m.\u001b[49m\u001b[43mDescriptive_Table\u001b[49m\u001b[43m(\u001b[49m\u001b[43mquan\u001b[49m\u001b[43m,\u001b[49m\u001b[43mdatapool\u001b[49m\u001b[43m)\u001b[49m\n",
      "\u001b[36mFile \u001b[39m\u001b[32m~\\Documents\\AI Course File\\Data Science\\MCT,Percentile\\Univeriate_class.py:8\u001b[39m, in \u001b[36muniveriate.Descriptive_Table\u001b[39m\u001b[34m(quan, datapool)\u001b[39m\n\u001b[32m      7\u001b[39m \u001b[38;5;28;01mdef\u001b[39;00m\u001b[38;5;250m \u001b[39m\u001b[34mDescriptive_Table\u001b[39m (quan,datapool):\n\u001b[32m----> \u001b[39m\u001b[32m8\u001b[39m     descriptive=\u001b[43mpd\u001b[49m.DataFrame(index=[\u001b[33m\"\u001b[39m\u001b[33mmean\u001b[39m\u001b[33m\"\u001b[39m,\u001b[33m\"\u001b[39m\u001b[33mmedian\u001b[39m\u001b[33m\"\u001b[39m,\u001b[33m\"\u001b[39m\u001b[33mmode\u001b[39m\u001b[33m\"\u001b[39m,\u001b[33m\"\u001b[39m\u001b[33mQ1:25\u001b[39m\u001b[33m%\u001b[39m\u001b[33m\"\u001b[39m,\u001b[33m\"\u001b[39m\u001b[33mQ2:50\u001b[39m\u001b[33m%\u001b[39m\u001b[33m\"\u001b[39m,\u001b[33m\"\u001b[39m\u001b[33mQ3:75\u001b[39m\u001b[33m%\u001b[39m\u001b[33m\"\u001b[39m,\u001b[33m\"\u001b[39m\u001b[33m99\u001b[39m\u001b[33m%\u001b[39m\u001b[33m\"\u001b[39m,\u001b[33m\"\u001b[39m\u001b[33mQ4:100\u001b[39m\u001b[33m%\u001b[39m\u001b[33m\"\u001b[39m,\u001b[33m\"\u001b[39m\u001b[33mIQR\u001b[39m\u001b[33m\"\u001b[39m,\u001b[33m\"\u001b[39m\u001b[33mMin\u001b[39m\u001b[33m\"\u001b[39m,\u001b[33m\"\u001b[39m\u001b[33mMax\u001b[39m\u001b[33m\"\u001b[39m,\u001b[33m\"\u001b[39m\u001b[33mLesser\u001b[39m\u001b[33m\"\u001b[39m,\u001b[33m\"\u001b[39m\u001b[33mGreater\u001b[39m\u001b[33m\"\u001b[39m],columns=quan)\n\u001b[32m      9\u001b[39m     \u001b[38;5;28;01mfor\u001b[39;00m ColumnName \u001b[38;5;129;01min\u001b[39;00m quan:\n\u001b[32m     10\u001b[39m         descriptive[ColumnName][\u001b[33m\"\u001b[39m\u001b[33mmean\u001b[39m\u001b[33m\"\u001b[39m]=datapool[ColumnName].mean()\n",
      "\u001b[31mNameError\u001b[39m: name 'pd' is not defined"
     ]
    }
   ],
   "source": [
    "univeriate.Descriptive_Table(quan,datapool)"
   ]
  },
  {
   "cell_type": "code",
   "execution_count": null,
   "id": "51b45832-991d-4748-8a13-0d37a4835d64",
   "metadata": {},
   "outputs": [],
   "source": []
  }
 ],
 "metadata": {
  "kernelspec": {
   "display_name": "Python 3 (ipykernel)",
   "language": "python",
   "name": "python3"
  },
  "language_info": {
   "codemirror_mode": {
    "name": "ipython",
    "version": 3
   },
   "file_extension": ".py",
   "mimetype": "text/x-python",
   "name": "python",
   "nbconvert_exporter": "python",
   "pygments_lexer": "ipython3",
   "version": "3.13.7"
  }
 },
 "nbformat": 4,
 "nbformat_minor": 5
}
